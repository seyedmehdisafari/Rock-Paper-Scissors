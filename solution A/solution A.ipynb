{
 "cells": [
  {
   "cell_type": "markdown",
   "metadata": {},
   "source": [
    "- Write a plan\n",
    "- get palyer choice\n",
    "- get player name\n",
    "- get computer choice\n",
    "- print winner\n",
    "- play agin ?"
   ]
  },
  {
   "cell_type": "code",
   "execution_count": 25,
   "metadata": {},
   "outputs": [],
   "source": [
    "import random\n",
    "\n",
    "\n",
    "class RockPaperScissors:\n",
    "    def __init__(self, name):\n",
    "        self.choices = ['rock', 'paper', 'scissors']\n",
    "        self.name = name\n",
    "        self.player_name = name\n",
    "\n",
    "    def get_player_choice(self):\n",
    "        user_choice = input(f'Enter your choice ({self.choices}): ')\n",
    "        if user_choice.lower() in self.choices:\n",
    "            return user_choice.lower()\n",
    "        \n",
    "        print(f\"Invalid choice. Please try again. You must select from ({self.choices}). \")\n",
    "        return get_palyer_choice\n",
    "    # Write another way : while loop \n",
    "\n",
    "    def get_computer_choice(self):\n",
    "        return random.choice(self.choices)\n",
    "\n",
    "    def decide_winner(self, user_choice, computer_choice):\n",
    "        if user_choice == computer_choice:\n",
    "            return \"It's Tie\"\n",
    "        \n",
    "        win_combination = [('rock, scissors'), ('paper, rock'), ('scissors, paper')]\n",
    "        for win_comb in win_combination:\n",
    "            if (user_choice == win_comb[0]) & (computer_choice == user_choice[1]):\n",
    "                return \"Congragulation! You won!.\"\n",
    "        \n",
    "        return \"_oh no! The computer won!.\"\n",
    "\n",
    "\n",
    "    def play(self):\n",
    "        user_choice = self.get_player_choice()\n",
    "        computer_choice = self.get_computer_choice()\n",
    "        print(f'Computer choice: {computer_choice}')\n",
    "        print(self.decide_winner(user_choice, computer_choice))\n"
   ]
  },
  {
   "cell_type": "code",
   "execution_count": 27,
   "metadata": {},
   "outputs": [
    {
     "name": "stdout",
     "output_type": "stream",
     "text": [
      "Computer choice: paper\n",
      "_oh no! The computer won!.\n",
      "Computer choice: rock\n",
      "_oh no! The computer won!.\n",
      "Computer choice: scissors\n",
      "_oh no! The computer won!.\n",
      "Computer choice: paper\n",
      "It's Tie\n"
     ]
    }
   ],
   "source": [
    "game = RockPaperScissors('Mehdi')\n",
    "\n",
    "while True:\n",
    "    game.play()\n",
    "\n",
    "    continue_game = input('Do you want to play again? (Enter any key to play agin, enter q/Q to exit!): ')\n",
    "    if continue_game.lower() == 'q':\n",
    "        break"
   ]
  },
  {
   "cell_type": "code",
   "execution_count": null,
   "metadata": {},
   "outputs": [],
   "source": []
  },
  {
   "cell_type": "code",
   "execution_count": null,
   "metadata": {},
   "outputs": [],
   "source": []
  }
 ],
 "metadata": {
  "kernelspec": {
   "display_name": "base",
   "language": "python",
   "name": "python3"
  },
  "language_info": {
   "codemirror_mode": {
    "name": "ipython",
    "version": 3
   },
   "file_extension": ".py",
   "mimetype": "text/x-python",
   "name": "python",
   "nbconvert_exporter": "python",
   "pygments_lexer": "ipython3",
   "version": "3.12.7"
  }
 },
 "nbformat": 4,
 "nbformat_minor": 2
}
